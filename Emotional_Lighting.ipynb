{
  "nbformat": 4,
  "nbformat_minor": 0,
  "metadata": {
    "colab": {
      "provenance": []
    },
    "kernelspec": {
      "name": "python3",
      "display_name": "Python 3"
    },
    "language_info": {
      "name": "python"
    }
  },
  "cells": [
    {
      "cell_type": "code",
      "execution_count": null,
      "metadata": {
        "id": "PvO2pteq74_r"
      },
      "outputs": [],
      "source": [
        "#Import Necessary Packages\n",
        "import os\n",
        "import torch\n",
        "import torch.nn as nn\n",
        "import torch.optim as optim\n",
        "from PIL import Image\n",
        "import numpy as np\n",
        "import random"
      ]
    },
    {
      "cell_type": "code",
      "source": [
        "# Create your own Custom Dataset Class"
      ],
      "metadata": {
        "id": "-TAoDvf4824t"
      },
      "execution_count": null,
      "outputs": []
    },
    {
      "cell_type": "code",
      "source": [
        "# Define transformations\n",
        "transform = transforms.Compose([\n",
        "    transforms.Resize((224, 224)),  # Resize to match ResNet input size\n",
        "    transforms.ToTensor(),  # Convert image to Tensor\n",
        "    transforms.Normalize(mean=[0.485, 0.456, 0.406], std=[0.229, 0.224, 0.225])  # Normalize for ResNet\n",
        "])"
      ],
      "metadata": {
        "id": "-hh3ICkv9KXY"
      },
      "execution_count": null,
      "outputs": []
    },
    {
      "cell_type": "code",
      "source": [
        "# Define your custom environment"
      ],
      "metadata": {
        "id": "MRVviQIA9OrX"
      },
      "execution_count": null,
      "outputs": []
    },
    {
      "cell_type": "code",
      "source": [
        "# Define the ResNet-50 Model\n",
        "class MoodPredictor(nn.Module):\n",
        "    def __init__(self, num_classes):\n",
        "        super(MoodPredictor, self).__init__()\n",
        "        self.resnet = models.resnet50(pretrained=True)  # Use a pre-trained ResNet50\n",
        "        in_features = self.resnet.fc.in_features\n",
        "        self.resnet.fc = nn.Linear(in_features, num_classes)  # Modify the final layer for your number of classes"
      ],
      "metadata": {
        "id": "lAU_anwD9T7D"
      },
      "execution_count": null,
      "outputs": []
    },
    {
      "cell_type": "code",
      "source": [
        "# Define DQN Model"
      ],
      "metadata": {
        "id": "W2cZtHNw9bT6"
      },
      "execution_count": null,
      "outputs": []
    },
    {
      "cell_type": "code",
      "source": [
        "# Define Training Loop for DQN"
      ],
      "metadata": {
        "id": "qp3NlVG89jCf"
      },
      "execution_count": null,
      "outputs": []
    },
    {
      "cell_type": "code",
      "source": [
        "# Define Evaluation Function for Model\n",
        "def evaluate_model(model, test_loader):\n",
        "    model.eval()\n",
        "    correct = 0\n",
        "    total = 0"
      ],
      "metadata": {
        "id": "TbFPE3Q69qBG"
      },
      "execution_count": null,
      "outputs": []
    },
    {
      "cell_type": "code",
      "source": [
        "# Implement the Main execution"
      ],
      "metadata": {
        "id": "zxCRaR9n9zEe"
      },
      "execution_count": null,
      "outputs": []
    },
    {
      "cell_type": "code",
      "source": [
        "# Initialize ResNet-50 model"
      ],
      "metadata": {
        "id": "ABySOv8492G5"
      },
      "execution_count": null,
      "outputs": []
    },
    {
      "cell_type": "code",
      "source": [
        " # Training ResNet-50\n",
        "    criterion = nn.CrossEntropyLoss()\n",
        "    optimizer = optim.Adam(model.parameters(), lr=0.001)\n",
        "    scheduler = optim.lr_scheduler.StepLR(optimizer, step_size=7, gamma=0.1)\n",
        "    scaler = torch.cuda.amp.GradScaler()\n",
        "    num_epochs = 20"
      ],
      "metadata": {
        "id": "BX-47hvy9_vf"
      },
      "execution_count": null,
      "outputs": []
    },
    {
      "cell_type": "code",
      "source": [
        "  # Define your own environment and DQN parameters"
      ],
      "metadata": {
        "id": "zQLKxkUf-Ej4"
      },
      "execution_count": null,
      "outputs": []
    },
    {
      "cell_type": "code",
      "source": [
        "# Train DQN with your own episodes\n",
        "    train_dqn(env, num_episodes=124)"
      ],
      "metadata": {
        "id": "PwpkkzBI-J1K"
      },
      "execution_count": null,
      "outputs": []
    },
    {
      "cell_type": "code",
      "source": [
        "# Evaluate a single testing image\n",
        "    if predicted_label is not None:\n",
        "        print(f'Predicted emotion: {emotion}')\n",
        "        print(f'Associated color for the predicted emotion: {color}')"
      ],
      "metadata": {
        "id": "gjFCee5b-SfN"
      },
      "execution_count": null,
      "outputs": []
    }
  ]
}